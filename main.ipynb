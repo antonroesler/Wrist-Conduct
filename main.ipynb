{
 "cells": [
  {
   "cell_type": "markdown",
   "metadata": {},
   "source": [
    "# WristConduct Model Training"
   ]
  },
  {
   "cell_type": "markdown",
   "metadata": {},
   "source": [
    "## Imports"
   ]
  },
  {
   "cell_type": "code",
   "execution_count": 1,
   "metadata": {},
   "outputs": [],
   "source": [
    "from util.crossvalidation import cross_test_subject, extract_all_mfcc_features\n",
    "\n",
    "import numpy as np\n",
    "from sklearn import metrics\n",
    "from sklearn.linear_model import SGDClassifier\n",
    "from sklearn.model_selection import train_test_split\n",
    "from sklearn.metrics import auc, roc_curve, roc_auc_score, RocCurveDisplay\n",
    "\n",
    "from tensorflow import keras\n",
    "from tensorflow.keras.models import Sequential\n",
    "from tensorflow.keras.layers import Conv2D, MaxPooling2D, Dense, Flatten\n",
    "\n",
    "\n",
    "%matplotlib inline\n",
    "import matplotlib.pyplot as plt"
   ]
  },
  {
   "cell_type": "markdown",
   "metadata": {},
   "source": [
    "## Definition of Constants "
   ]
  },
  {
   "cell_type": "code",
   "execution_count": 2,
   "metadata": {},
   "outputs": [],
   "source": [
    "NN_THRESHOLD = 0.85"
   ]
  },
  {
   "cell_type": "markdown",
   "metadata": {},
   "source": [
    "## Load Data"
   ]
  },
  {
   "cell_type": "code",
   "execution_count": 3,
   "metadata": {},
   "outputs": [],
   "source": [
    "data = extract_all_mfcc_features()"
   ]
  },
  {
   "cell_type": "markdown",
   "metadata": {},
   "source": [
    "## Deep Neural Network Configuration"
   ]
  },
  {
   "cell_type": "code",
   "execution_count": 4,
   "metadata": {},
   "outputs": [],
   "source": [
    "def build_model():\n",
    "    model = Sequential([\n",
    "    Dense(3600, activation=\"relu\", name=\"layer1\"),\n",
    "    # Dense(1024, activation=\"relu\", name=\"layer2\"),\n",
    "    # Dense(512, activation=\"relu\", name=\"layer3\"),\n",
    "    # Dense(64, activation=\"relu\", name=\"layer4\"),\n",
    "    Dense(32, activation=\"relu\", name=\"layer5\"),\n",
    "    Dense(1, activation='sigmoid'),\n",
    "    ])\n",
    "\n",
    "    model.compile(\n",
    "    'adam',\n",
    "    loss='binary_crossentropy',\n",
    "    metrics=['accuracy', 'binary_accuracy'],\n",
    "    )\n",
    "\n",
    "    return model"
   ]
  },
  {
   "cell_type": "markdown",
   "metadata": {},
   "source": [
    "### Define Test Result Class"
   ]
  },
  {
   "cell_type": "code",
   "execution_count": 5,
   "metadata": {},
   "outputs": [],
   "source": [
    "class TestResult:\n",
    "    score_nn: float\n",
    "    mtx_nn: np.array\n",
    "    sensitivity_nn: float\n",
    "    specificity_nn: float\n",
    "    score_clf: float\n",
    "    mtx_clf: np.array\n",
    "    sensitivity_clf: float\n",
    "    specificity_clf: float"
   ]
  },
  {
   "cell_type": "markdown",
   "metadata": {},
   "source": [
    "### Define Result printing Function"
   ]
  },
  {
   "cell_type": "code",
   "execution_count": 6,
   "metadata": {},
   "outputs": [],
   "source": [
    "def print_scores(mtx, name):\n",
    "    tn, fp, fn, tp = mtx.ravel()\n",
    "\n",
    "    print(f\"({name}) True Negatives:  {tn}\")\n",
    "    print(f\"({name}) True Positives:  {tp}\")\n",
    "    print(f\"({name}) False Negatives: {fn}\")\n",
    "    print(f\"({name}) False Positives: {fp}\")\n",
    "\n",
    "    fpr = fp/(fp+tn)\n",
    "    fnr = fn/(fn+tp)\n",
    "\n",
    "    sensitivity = tp/(tp+fn)\n",
    "    specificity = tn/(tn+fp)\n",
    "\n",
    "    youden = sensitivity + specificity - 1\n",
    "\n",
    "    accuracy = (tp+tn)/(tp+tn+fp+fn)\n",
    "\n",
    "    precision = tp / (tp + fp)\n",
    "    recall = tp / (tp + fn)\n",
    "\n",
    "    F1 = 2 * (precision * recall) / (precision + recall)\n",
    "\n",
    "    print()\n",
    "    print(f\"({name}) False Positive Rate : {fpr}\")\n",
    "    print(f\"({name}) False Negative Rate : {fnr}\")\n",
    "    print(f\"({name}) Sensitivity         : {sensitivity}\")\n",
    "    print(f\"({name}) Specificity         : {specificity}\")\n",
    "    print(f\"({name}) Youden Index        : {youden}\")\n",
    "    print(f\"({name}) Accuracy            : {accuracy}\")\n",
    "    print(f\"({name}) Precision           : {precision}\")\n",
    "    print(f\"({name}) Recall              : {recall}\")\n",
    "    print(f\"({name}) F1-Score            : {F1}\")"
   ]
  },
  {
   "cell_type": "markdown",
   "metadata": {},
   "source": [
    "### Define Accuracy Box Plot"
   ]
  },
  {
   "cell_type": "code",
   "execution_count": 7,
   "metadata": {},
   "outputs": [],
   "source": [
    "def accuracy_box_plot(data, name):\n",
    "    plt.figure(figsize=(10, 5))\n",
    "\n",
    "    plt.plot([0,25], [1, 1], \"-\", linewidth=0.5, label=\"100% Accuracy\")\n",
    "    plt.title(f\"Model Accuracies per Test Subject (Model: {name})\")\n",
    "    plt.xlabel(\"Test Subject\")\n",
    "    plt.ylabel(\"Model Accuracy\")\n",
    "    plt.boxplot(np.array(data).T, medianprops=dict(linewidth=1.5, color='red'))\n",
    "    plt.ylim(0.5, 1.1)\n",
    "    plt.savefig(f'accuracy_box_plot_{name}.png', dpi=300)"
   ]
  },
  {
   "cell_type": "markdown",
   "metadata": {},
   "source": [
    "## Define Training and Evaluation Function"
   ]
  },
  {
   "cell_type": "code",
   "execution_count": 9,
   "metadata": {},
   "outputs": [],
   "source": [
    "mean_fpr = np.linspace(0, 1, 100)\n",
    "\n",
    "# Scores for neural net\n",
    "tprs_nn = []\n",
    "aucs_nn = []\n",
    "\n",
    "# Scores for SVM Classifier\n",
    "tprs_clf = []\n",
    "aucs_clf = []\n",
    "\n",
    "fig, ax = plt.subplots()\n",
    "\n",
    "def train_models_for_dataset(target_data, other_data) -> TestResult:\n",
    "    result = TestResult()\n",
    "    # Format Dataset\n",
    "    label = [1]*len(target_data) + [0]*len(other_data)\n",
    "    data = target_data + other_data\n",
    "    data = np.array(data)\n",
    "    label = np.array(label)\n",
    "    \n",
    "    # Split train and test data\n",
    "    X_train, X_test, y_train, y_test = train_test_split(\n",
    "                                        data, label, test_size=0.35, stratify=label)\n",
    "\n",
    "    # Train and evaluate deep neural network\n",
    "    model = build_model()\n",
    "\n",
    "    model.fit(\n",
    "    X_train,\n",
    "    y_train,\n",
    "    epochs=10,\n",
    "    verbose=0\n",
    "    )\n",
    "\n",
    "    # Predict test data with NN\n",
    "    y_pred_nn = [1 if y>NN_THRESHOLD else 0 for y in model.predict(X_test)]\n",
    "\n",
    "    # Calculate accuracy for NN\n",
    "    result.score_nn = sum(y_pred_nn == y_test)/len(y_pred_nn)\n",
    "\n",
    "    # Calculate confusion matrix for NN\n",
    "    mtx_nn = metrics.confusion_matrix(y_test, y_pred_nn)\n",
    "    if len(mtx_nn) == 1:\n",
    "        mtx_nn = np.array([y_test.count(0),0],[0, y_test.count(1)])\n",
    "    result.mtx_nn = mtx_nn\n",
    "    tn, fp, fn, tp = mtx_nn.ravel()\n",
    "    result.sensitivity_nn = tp/(tp+fn)\n",
    "    result.specificity_nn = tn/(tn+fp)\n",
    "\n",
    "    # Calculate ROC for NN\n",
    "    fpr_nn, tpr_nn, thresholds_nn = roc_curve(y_test, y_pred_nn)\n",
    "    auc_nn = roc_auc_score(y_test, y_pred_nn)\n",
    "\n",
    "    interp_tpr_nn = np.interp(mean_fpr, fpr_nn, tpr_nn)\n",
    "    interp_tpr_nn[0] = 0.0\n",
    "    tprs_nn.append(interp_tpr_nn)\n",
    "    #ax.plot(fpr_nn, tpr_nn, color='red', alpha=0.1)\n",
    "    aucs_nn.append(auc_nn)\n",
    "\n",
    "    \n",
    "    # Train and evaluate SVM Classifier\n",
    "    sgd_clf = SGDClassifier(random_state=42, max_iter=10000, tol=0.001, \n",
    "                            loss=\"hinge\", class_weight={1:3, 0:1})\n",
    "    sgd_clf.fit(X_train, y_train)\n",
    "    y_pred_clf = sgd_clf.predict(X_test)\n",
    "    result.score_clf = sgd_clf.score(X_test, y_test)\n",
    "    \n",
    "    # Calculate confusion matrix for SVM Classifier\n",
    "    mtx = metrics.confusion_matrix(y_test, y_pred_clf)\n",
    "    if len(mtx) == 1:\n",
    "        mtx = np.array([y_test.count(0),0],[0, y_test.count(1)])\n",
    "    tn, fp, fn, tp = mtx.ravel()\n",
    "    result.mtx_clf = mtx\n",
    "\n",
    "    result.sensitivity_clf = tp/(tp+fn)\n",
    "    result.specificity_clf = tn/(tn+fp)\n",
    "\n",
    "    # Calculate ROC for SVM Classifier\n",
    "    fpr_clf, tpr_clf, thresholds_clf = roc_curve(y_test, y_pred_clf)\n",
    "    auc_clf = roc_auc_score(y_test, y_pred_clf)\n",
    "\n",
    "    interp_tpr_clf = np.interp(mean_fpr, fpr_clf, tpr_clf)\n",
    "    interp_tpr_clf[0] = 0.0\n",
    "    tprs_clf.append(interp_tpr_clf)\n",
    "    #ax.plot(fpr_clf, tpr_clf, color='blue', alpha=0.1)\n",
    "    aucs_clf.append(auc_clf)\n",
    "    \n",
    "    return result\n",
    "\n",
    "    \n",
    "result_data = {'clf': [], 'nn': []}\n",
    "mtx_clf = np.array([[0,  0],[ 0,  0]])\n",
    "mtx_nn = np.array([[0,  0],[ 0,  0]])\n",
    "for X in range(1, 25): ##############\n",
    "    c = []\n",
    "    n = []\n",
    "    target_data, negative_sets = cross_test_subject(data, X, 2, 100)\n",
    "    for set in negative_sets:\n",
    "        tr = train_models_for_dataset(target_data, set)\n",
    "        mtx_nn += tr.mtx_nn\n",
    "        mtx_clf += tr.mtx_clf\n",
    "        n.append(tr.score_nn)\n",
    "        c.append(tr.score_clf)\n",
    "\n",
    "    result_data['clf'].append(c)\n",
    "    result_data['nn'].append(n)\n",
    "    \n",
    "print_scores(mtx_nn, \"NN\")\n",
    "print_scores(mtx_clf, \"SVM\")\n",
    "\n",
    "\n",
    "# ROC AUC Plot\n",
    "ax.plot([0, 1], [0, 1], linestyle=\"--\", lw=1, color=\"r\", label=\"Chance\", alpha=0.8)\n",
    "\n",
    "mean_tpr_nn = np.mean(tprs_nn, axis=0)\n",
    "mean_tpr_nn[-1] = 1.0\n",
    "mean_auc_nn = auc(mean_fpr, mean_tpr_nn)\n",
    "std_auc_nn = np.std(aucs_nn)\n",
    "ax.plot(\n",
    "    mean_fpr,\n",
    "    mean_tpr_nn,\n",
    "    color=\"b\",\n",
    "    label=r\"(NN) Mean ROC (AUC = %0.2f $\\pm$ %0.2f)\" % (mean_auc_nn, std_auc_nn),\n",
    "    lw=2,\n",
    "    alpha=0.8,\n",
    ")\n",
    "\n",
    "mean_tpr_clf = np.mean(tprs_clf, axis=0)\n",
    "mean_tpr_clf[-1] = 1.0\n",
    "mean_auc_clf = auc(mean_fpr, mean_tpr_clf)\n",
    "std_auc_clf = np.std(aucs_clf)\n",
    "ax.plot(\n",
    "    mean_fpr,\n",
    "    mean_tpr_clf,\n",
    "    color=\"orange\",\n",
    "    linestyle='dotted',\n",
    "    label=r\"(SVM) Mean ROC (AUC = %0.2f $\\pm$ %0.2f)\" % (mean_auc_clf, std_auc_clf),\n",
    "    lw=2,\n",
    "    alpha=0.8,\n",
    ")\n",
    "\n",
    "std_tpr_nn = np.std(tprs_nn, axis=0)\n",
    "tprs_upper_nn = np.minimum(mean_tpr_nn + std_tpr_nn, 1)\n",
    "tprs_lower_nn = np.maximum(mean_tpr_nn - std_tpr_nn, 0)\n",
    "ax.fill_between(\n",
    "    mean_fpr,\n",
    "    tprs_lower_nn,\n",
    "    tprs_upper_nn,\n",
    "    color=\"grey\",\n",
    "    alpha=0.2,\n",
    "    label=r\"(NN) $\\pm$ 1 std. dev.\",\n",
    ")\n",
    "ax.set_xlabel(\"False Positive Rate\")\n",
    "ax.set_ylabel(\"True Positive Rate\")\n",
    "ax.set(\n",
    "    xlim=[-0.05, 1.05],\n",
    "    ylim=[-0.05, 1.05],\n",
    "    title=\"Mean receiver operating characteristic (ROC) for NN and SVM\",\n",
    ")\n",
    "ax.legend(loc=\"lower right\")\n",
    "plt.savefig(\"mean_roc_auc_nn_svm.png\", dpi=900)\n",
    "plt.ylim(0.75, 1.01)\n",
    "plt.xlim(-0.005, 0.2)\n",
    "plt.savefig(\"mean_roc_auc_nn_svm_80.png\", dpi=900)\n",
    "plt.show()\n",
    "\n",
    "plt.ylim(0.5, 1.01)\n",
    "plt.xlim(-3, 27)\n",
    "\n",
    "accuracy_box_plot(result_data.get('nn'), \"NN\")\n",
    "accuracy_box_plot(result_data.get('clf'), \"SVM\")\n",
    "    "
   ]
  }
 ],
 "metadata": {
  "interpreter": {
   "hash": "16f5b74c624d09fc385f0be4058e336dcfbdaf265502152a4fcd00d5fcbbacfe"
  },
  "kernelspec": {
   "display_name": "Python 3.10.1 64-bit ('wrist': conda)",
   "language": "python",
   "name": "python3"
  },
  "language_info": {
   "codemirror_mode": {
    "name": "ipython",
    "version": 3
   },
   "file_extension": ".py",
   "mimetype": "text/x-python",
   "name": "python",
   "nbconvert_exporter": "python",
   "pygments_lexer": "ipython3",
   "version": "3.10.2"
  },
  "orig_nbformat": 4
 },
 "nbformat": 4,
 "nbformat_minor": 2
}
