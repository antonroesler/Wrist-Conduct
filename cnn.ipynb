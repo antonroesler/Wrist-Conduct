{
 "cells": [
  {
   "cell_type": "code",
   "execution_count": 1,
   "metadata": {},
   "outputs": [],
   "source": [
    "from util.crossvalidation import cross_test_subject, extract_all_mfcc_features\n",
    "from sklearn.model_selection import train_test_split\n",
    "import numpy as np\n",
    "from sklearn import metrics\n",
    "from sklearn.linear_model import SGDClassifier\n",
    "from sklearn.metrics import auc\n",
    "from sklearn.metrics import RocCurveDisplay\n",
    "%matplotlib inline\n",
    "import matplotlib.pyplot as plt\n",
    "\n",
    "import numpy as np\n",
    "\n",
    "from tensorflow import keras\n",
    "from tensorflow.keras.models import Sequential\n",
    "from tensorflow.keras.layers import Conv2D, MaxPooling2D, Dense, Flatten\n",
    "\n"
   ]
  },
  {
   "cell_type": "code",
   "execution_count": null,
   "metadata": {},
   "outputs": [],
   "source": []
  },
  {
   "cell_type": "code",
   "execution_count": 2,
   "metadata": {},
   "outputs": [],
   "source": [
    "data = extract_all_mfcc_features()"
   ]
  },
  {
   "cell_type": "code",
   "execution_count": 37,
   "metadata": {},
   "outputs": [],
   "source": [
    "def test_clf(target_data, other_data, p):\n",
    "    label = [1]*len(target_data) + [0]*len(other_data)\n",
    "    data = target_data + other_data\n",
    "    data = np.array(data)\n",
    "    label = np.array(label)\n",
    "    X_train, X_test, y_train, y_test = train_test_split(data, label, test_size=0.35, stratify=label)\n",
    "\n",
    "    model = Sequential([\n",
    "    Dense(3600, activation=\"relu\", name=\"layer1\"),\n",
    "    Dense(1024, activation=\"relu\", name=\"layer2\"),\n",
    "    Dense(512, activation=\"relu\", name=\"layer3\"),\n",
    "    Dense(64, activation=\"relu\", name=\"layer4\"),\n",
    "    Dense(32, activation=\"relu\", name=\"layer5\"),\n",
    "    Dense(1, activation='sigmoid'),\n",
    "    ])\n",
    "\n",
    "    model.compile(\n",
    "    'adam',\n",
    "    loss='binary_crossentropy',\n",
    "    metrics=['accuracy', 'binary_accuracy'],\n",
    "    )\n",
    "\n",
    "    model.fit(\n",
    "    X_train,\n",
    "    y_train,\n",
    "    epochs=100,\n",
    "    verbose=0\n",
    "    )\n",
    "\n",
    "    model.evaluate(X_test, y_test)\n",
    "    \n",
    "    y_p = model.predict(X_test)\n",
    "    y_pred = [1 if y>0.85 else 0 for y in y_p]\n",
    "\n",
    "    accuracy = sum(y_pred == y_test)/len(y_pred)\n",
    "\n",
    "    mtx = metrics.confusion_matrix(y_test, y_pred)\n",
    "\n",
    "    return accuracy, mtx, \n",
    "\n",
    "\n",
    "\n",
    "\n",
    "\n",
    "\n",
    "        \n",
    "        "
   ]
  },
  {
   "cell_type": "code",
   "execution_count": 40,
   "metadata": {},
   "outputs": [
    {
     "name": "stdout",
     "output_type": "stream",
     "text": [
      "2/2 [==============================] - 0s 6ms/step - loss: 0.0000e+00 - accuracy: 1.0000 - binary_accuracy: 1.0000\n",
      "2/2 [==============================] - 0s 5ms/step - loss: 5.9959e-21 - accuracy: 1.0000 - binary_accuracy: 1.0000\n",
      "2/2 [==============================] - 0s 6ms/step - loss: 3.6563 - accuracy: 0.9487 - binary_accuracy: 0.9487\n",
      "2/2 [==============================] - 0s 6ms/step - loss: 5.6261e-19 - accuracy: 1.0000 - binary_accuracy: 1.0000\n",
      "2/2 [==============================] - 0s 5ms/step - loss: 1.0238e-34 - accuracy: 1.0000 - binary_accuracy: 1.0000\n",
      "2/2 [==============================] - 0s 5ms/step - loss: 0.0000e+00 - accuracy: 1.0000 - binary_accuracy: 1.0000\n",
      "2/2 [==============================] - 0s 6ms/step - loss: 3.3618 - accuracy: 0.9744 - binary_accuracy: 0.9744\n",
      "2/2 [==============================] - 0s 8ms/step - loss: 2.3820e-24 - accuracy: 1.0000 - binary_accuracy: 1.0000\n",
      "2/2 [==============================] - 0s 6ms/step - loss: 1.6171e-21 - accuracy: 1.0000 - binary_accuracy: 1.0000\n",
      "2/2 [==============================] - 0s 6ms/step - loss: 1.1699e-26 - accuracy: 1.0000 - binary_accuracy: 1.0000\n",
      "2/2 [==============================] - 0s 6ms/step - loss: 0.0000e+00 - accuracy: 1.0000 - binary_accuracy: 1.0000\n",
      "2/2 [==============================] - 0s 6ms/step - loss: 0.0000e+00 - accuracy: 1.0000 - binary_accuracy: 1.0000\n",
      "2/2 [==============================] - 0s 7ms/step - loss: 0.0000e+00 - accuracy: 1.0000 - binary_accuracy: 1.0000\n",
      "2/2 [==============================] - 0s 5ms/step - loss: 0.0000e+00 - accuracy: 1.0000 - binary_accuracy: 1.0000\n",
      "2/2 [==============================] - 0s 6ms/step - loss: 0.0000e+00 - accuracy: 1.0000 - binary_accuracy: 1.0000\n",
      "2/2 [==============================] - 0s 6ms/step - loss: 4.4594e-27 - accuracy: 1.0000 - binary_accuracy: 1.0000\n",
      "2/2 [==============================] - 0s 7ms/step - loss: 2.8911e-11 - accuracy: 1.0000 - binary_accuracy: 1.0000\n",
      "2/2 [==============================] - 0s 6ms/step - loss: 0.0000e+00 - accuracy: 1.0000 - binary_accuracy: 1.0000\n",
      "2/2 [==============================] - 0s 6ms/step - loss: 9.3967e-12 - accuracy: 1.0000 - binary_accuracy: 1.0000\n",
      "2/2 [==============================] - 0s 6ms/step - loss: 7.0917e-25 - accuracy: 1.0000 - binary_accuracy: 1.0000\n",
      "2/2 [==============================] - 0s 6ms/step - loss: 1.6276e-12 - accuracy: 1.0000 - binary_accuracy: 1.0000\n",
      "2/2 [==============================] - 0s 6ms/step - loss: 0.0000e+00 - accuracy: 1.0000 - binary_accuracy: 1.0000\n",
      "2/2 [==============================] - 0s 5ms/step - loss: 0.0000e+00 - accuracy: 1.0000 - binary_accuracy: 1.0000\n",
      "2/2 [==============================] - 0s 6ms/step - loss: 0.0000e+00 - accuracy: 1.0000 - binary_accuracy: 1.0000\n",
      "2/2 [==============================] - 0s 6ms/step - loss: 0.0000e+00 - accuracy: 1.0000 - binary_accuracy: 1.0000\n",
      "2/2 [==============================] - 0s 6ms/step - loss: 0.0839 - accuracy: 0.9744 - binary_accuracy: 0.9744\n",
      "2/2 [==============================] - 0s 6ms/step - loss: 1.3394e-06 - accuracy: 1.0000 - binary_accuracy: 1.0000\n",
      "2/2 [==============================] - 0s 6ms/step - loss: 5.8233e-04 - accuracy: 1.0000 - binary_accuracy: 1.0000\n",
      "2/2 [==============================] - 0s 8ms/step - loss: 7.1139e-07 - accuracy: 1.0000 - binary_accuracy: 1.0000\n",
      "2/2 [==============================] - 0s 7ms/step - loss: 6.5288e-07 - accuracy: 1.0000 - binary_accuracy: 1.0000\n",
      "2/2 [==============================] - 0s 6ms/step - loss: 4.0018e-06 - accuracy: 1.0000 - binary_accuracy: 1.0000\n",
      "2/2 [==============================] - 0s 6ms/step - loss: 6.6341e-10 - accuracy: 1.0000 - binary_accuracy: 1.0000\n",
      "2/2 [==============================] - 0s 5ms/step - loss: 3.9823e-16 - accuracy: 1.0000 - binary_accuracy: 1.0000\n",
      "2/2 [==============================] - 0s 6ms/step - loss: 4.4039e-10 - accuracy: 1.0000 - binary_accuracy: 1.0000\n",
      "2/2 [==============================] - 0s 7ms/step - loss: 2.0541e-07 - accuracy: 1.0000 - binary_accuracy: 1.0000\n",
      "2/2 [==============================] - 0s 5ms/step - loss: 3.4683e-07 - accuracy: 1.0000 - binary_accuracy: 1.0000\n",
      "2/2 [==============================] - 0s 6ms/step - loss: 0.3345 - accuracy: 0.9744 - binary_accuracy: 0.9744\n",
      "2/2 [==============================] - 0s 5ms/step - loss: 1.0217e-06 - accuracy: 1.0000 - binary_accuracy: 1.0000\n",
      "2/2 [==============================] - 0s 6ms/step - loss: 0.6103 - accuracy: 0.9487 - binary_accuracy: 0.9487\n",
      "2/2 [==============================] - 0s 7ms/step - loss: 0.1773 - accuracy: 0.9744 - binary_accuracy: 0.9744\n",
      "2/2 [==============================] - 0s 7ms/step - loss: 0.1470 - accuracy: 0.9750 - binary_accuracy: 0.9750\n",
      "2/2 [==============================] - 0s 6ms/step - loss: 0.4862 - accuracy: 0.9750 - binary_accuracy: 0.9750\n",
      "2/2 [==============================] - 0s 7ms/step - loss: 0.6276 - accuracy: 0.9750 - binary_accuracy: 0.9750\n",
      "2/2 [==============================] - 0s 6ms/step - loss: 2.6323 - accuracy: 0.9750 - binary_accuracy: 0.9750\n",
      "2/2 [==============================] - 0s 6ms/step - loss: 3.3324e-17 - accuracy: 1.0000 - binary_accuracy: 1.0000\n",
      "2/2 [==============================] - 0s 9ms/step - loss: 0.0039 - accuracy: 1.0000 - binary_accuracy: 1.0000\n",
      "2/2 [==============================] - 0s 6ms/step - loss: 2.5438 - accuracy: 0.9744 - binary_accuracy: 0.9744\n",
      "2/2 [==============================] - 0s 6ms/step - loss: 2.7747 - accuracy: 0.9487 - binary_accuracy: 0.9487\n",
      "2/2 [==============================] - 0s 6ms/step - loss: 4.4990e-04 - accuracy: 1.0000 - binary_accuracy: 1.0000\n",
      "2/2 [==============================] - 0s 6ms/step - loss: 0.0081 - accuracy: 1.0000 - binary_accuracy: 1.0000\n",
      "2/2 [==============================] - 0s 6ms/step - loss: 0.0031 - accuracy: 1.0000 - binary_accuracy: 1.0000\n",
      "2/2 [==============================] - 0s 7ms/step - loss: 0.2449 - accuracy: 0.9744 - binary_accuracy: 0.9744\n",
      "2/2 [==============================] - 0s 6ms/step - loss: 1.0930 - accuracy: 0.9231 - binary_accuracy: 0.9231\n",
      "2/2 [==============================] - 0s 10ms/step - loss: 0.1114 - accuracy: 0.9487 - binary_accuracy: 0.9487\n",
      "2/2 [==============================] - 0s 8ms/step - loss: 0.0126 - accuracy: 1.0000 - binary_accuracy: 1.0000\n",
      "2/2 [==============================] - 0s 7ms/step - loss: 0.0000e+00 - accuracy: 1.0000 - binary_accuracy: 1.0000\n",
      "2/2 [==============================] - 0s 8ms/step - loss: 0.1498 - accuracy: 0.9744 - binary_accuracy: 0.9744\n",
      "2/2 [==============================] - 0s 6ms/step - loss: 5.2231e-05 - accuracy: 1.0000 - binary_accuracy: 1.0000\n",
      "2/2 [==============================] - 0s 6ms/step - loss: 0.2397 - accuracy: 0.9744 - binary_accuracy: 0.9744\n",
      "2/2 [==============================] - 0s 8ms/step - loss: 1.0132e-08 - accuracy: 1.0000 - binary_accuracy: 1.0000\n",
      "2/2 [==============================] - 0s 6ms/step - loss: 1.8278e-08 - accuracy: 1.0000 - binary_accuracy: 1.0000\n",
      "2/2 [==============================] - 0s 5ms/step - loss: 6.4940e-04 - accuracy: 1.0000 - binary_accuracy: 1.0000\n",
      "2/2 [==============================] - 0s 6ms/step - loss: 1.1885 - accuracy: 0.9744 - binary_accuracy: 0.9744\n",
      "2/2 [==============================] - 0s 6ms/step - loss: 0.0535 - accuracy: 0.9744 - binary_accuracy: 0.9744\n",
      "2/2 [==============================] - 0s 6ms/step - loss: 0.6987 - accuracy: 0.9744 - binary_accuracy: 0.9744\n",
      "2/2 [==============================] - 0s 6ms/step - loss: 6.1359e-04 - accuracy: 1.0000 - binary_accuracy: 1.0000\n",
      "2/2 [==============================] - 0s 6ms/step - loss: 0.0316 - accuracy: 0.9744 - binary_accuracy: 0.9744\n",
      "2/2 [==============================] - 0s 5ms/step - loss: 5.7431e-08 - accuracy: 1.0000 - binary_accuracy: 1.0000\n",
      "2/2 [==============================] - 0s 10ms/step - loss: 3.6842e-07 - accuracy: 1.0000 - binary_accuracy: 1.0000\n",
      "2/2 [==============================] - 0s 30ms/step - loss: 0.5395 - accuracy: 0.9744 - binary_accuracy: 0.9744\n",
      "2/2 [==============================] - 0s 6ms/step - loss: 2.0722e-05 - accuracy: 1.0000 - binary_accuracy: 1.0000\n",
      "2/2 [==============================] - 0s 9ms/step - loss: 0.4495 - accuracy: 0.9500 - binary_accuracy: 0.9500\n",
      "2/2 [==============================] - 0s 6ms/step - loss: 4.0179e-05 - accuracy: 1.0000 - binary_accuracy: 1.0000\n",
      "2/2 [==============================] - 0s 6ms/step - loss: 5.0628e-06 - accuracy: 1.0000 - binary_accuracy: 1.0000\n",
      "2/2 [==============================] - 0s 6ms/step - loss: 4.7913e-04 - accuracy: 1.0000 - binary_accuracy: 1.0000\n",
      "2/2 [==============================] - 0s 6ms/step - loss: 2.3054e-05 - accuracy: 1.0000 - binary_accuracy: 1.0000\n",
      "2/2 [==============================] - 0s 6ms/step - loss: 0.2596 - accuracy: 0.9750 - binary_accuracy: 0.9750\n",
      "2/2 [==============================] - 0s 8ms/step - loss: 1.2911e-12 - accuracy: 1.0000 - binary_accuracy: 1.0000\n",
      "2/2 [==============================] - 0s 6ms/step - loss: 0.0809 - accuracy: 0.9750 - binary_accuracy: 0.9750\n",
      "2/2 [==============================] - 0s 10ms/step - loss: 1.9373e-05 - accuracy: 1.0000 - binary_accuracy: 1.0000\n",
      "2/2 [==============================] - 0s 8ms/step - loss: 3.1851e-38 - accuracy: 1.0000 - binary_accuracy: 1.0000\n",
      "2/2 [==============================] - 0s 11ms/step - loss: 0.0000e+00 - accuracy: 1.0000 - binary_accuracy: 1.0000\n",
      "2/2 [==============================] - 0s 6ms/step - loss: 1.2312 - accuracy: 0.9744 - binary_accuracy: 0.9744\n",
      "2/2 [==============================] - 0s 6ms/step - loss: 5.6387e-38 - accuracy: 1.0000 - binary_accuracy: 1.0000\n",
      "2/2 [==============================] - 0s 7ms/step - loss: 1.6508e-16 - accuracy: 1.0000 - binary_accuracy: 1.0000\n",
      "2/2 [==============================] - 0s 6ms/step - loss: 4.1689 - accuracy: 0.9744 - binary_accuracy: 0.9744\n",
      "2/2 [==============================] - 0s 6ms/step - loss: 0.0000e+00 - accuracy: 1.0000 - binary_accuracy: 1.0000\n",
      "2/2 [==============================] - 0s 6ms/step - loss: 6.7893e-05 - accuracy: 1.0000 - binary_accuracy: 1.0000\n",
      "2/2 [==============================] - 0s 6ms/step - loss: 0.0041 - accuracy: 1.0000 - binary_accuracy: 1.0000\n",
      "2/2 [==============================] - 0s 8ms/step - loss: 0.0000e+00 - accuracy: 1.0000 - binary_accuracy: 1.0000\n",
      "2/2 [==============================] - 0s 5ms/step - loss: 0.0059 - accuracy: 1.0000 - binary_accuracy: 1.0000\n",
      "2/2 [==============================] - 0s 6ms/step - loss: 1.6523e-11 - accuracy: 1.0000 - binary_accuracy: 1.0000\n",
      "2/2 [==============================] - 0s 6ms/step - loss: 5.6666e-04 - accuracy: 1.0000 - binary_accuracy: 1.0000\n",
      "2/2 [==============================] - 0s 6ms/step - loss: 0.0127 - accuracy: 1.0000 - binary_accuracy: 1.0000\n",
      "2/2 [==============================] - 0s 6ms/step - loss: 0.0749 - accuracy: 0.9744 - binary_accuracy: 0.9744\n",
      "2/2 [==============================] - 0s 6ms/step - loss: 3.2482e-07 - accuracy: 1.0000 - binary_accuracy: 1.0000\n",
      "2/2 [==============================] - 0s 7ms/step - loss: 1.1161e-13 - accuracy: 1.0000 - binary_accuracy: 1.0000\n",
      "2/2 [==============================] - 0s 7ms/step - loss: 0.0076 - accuracy: 1.0000 - binary_accuracy: 1.0000\n",
      "2/2 [==============================] - 0s 6ms/step - loss: 4.8132e-11 - accuracy: 1.0000 - binary_accuracy: 1.0000\n",
      "2/2 [==============================] - 0s 7ms/step - loss: 1.5851e-08 - accuracy: 1.0000 - binary_accuracy: 1.0000\n",
      "2/2 [==============================] - 0s 6ms/step - loss: 0.0000e+00 - accuracy: 1.0000 - binary_accuracy: 1.0000\n",
      "2/2 [==============================] - 0s 7ms/step - loss: 4.4360e-25 - accuracy: 1.0000 - binary_accuracy: 1.0000\n",
      "2/2 [==============================] - 0s 13ms/step - loss: 1.6083e-06 - accuracy: 1.0000 - binary_accuracy: 1.0000\n",
      "2/2 [==============================] - 0s 9ms/step - loss: 0.0000e+00 - accuracy: 1.0000 - binary_accuracy: 1.0000\n",
      "2/2 [==============================] - 0s 6ms/step - loss: 1.3875e-08 - accuracy: 1.0000 - binary_accuracy: 1.0000\n",
      "2/2 [==============================] - 0s 13ms/step - loss: 6.4349e-11 - accuracy: 1.0000 - binary_accuracy: 1.0000\n",
      "2/2 [==============================] - 0s 6ms/step - loss: 0.0774 - accuracy: 0.9750 - binary_accuracy: 0.9750\n",
      "2/2 [==============================] - 0s 7ms/step - loss: 1.0367e-14 - accuracy: 1.0000 - binary_accuracy: 1.0000\n",
      "2/2 [==============================] - 0s 6ms/step - loss: 4.6846 - accuracy: 0.9500 - binary_accuracy: 0.9500\n",
      "2/2 [==============================] - 0s 6ms/step - loss: 5.8317e-11 - accuracy: 1.0000 - binary_accuracy: 1.0000\n",
      "2/2 [==============================] - 0s 7ms/step - loss: 2.9929 - accuracy: 0.9250 - binary_accuracy: 0.9250\n",
      "2/2 [==============================] - 0s 8ms/step - loss: 0.1176 - accuracy: 0.9750 - binary_accuracy: 0.9750\n",
      "2/2 [==============================] - 0s 5ms/step - loss: 4.1622e-07 - accuracy: 1.0000 - binary_accuracy: 1.0000\n",
      "2/2 [==============================] - 0s 6ms/step - loss: 1.0422e-15 - accuracy: 1.0000 - binary_accuracy: 1.0000\n",
      "2/2 [==============================] - 0s 5ms/step - loss: 7.1213e-07 - accuracy: 1.0000 - binary_accuracy: 1.0000\n",
      "2/2 [==============================] - 0s 7ms/step - loss: 0.0000e+00 - accuracy: 1.0000 - binary_accuracy: 1.0000\n",
      "2/2 [==============================] - 0s 6ms/step - loss: 2.2329e-37 - accuracy: 1.0000 - binary_accuracy: 1.0000\n",
      "2/2 [==============================] - 0s 7ms/step - loss: 1.0327e-26 - accuracy: 1.0000 - binary_accuracy: 1.0000\n",
      "2/2 [==============================] - 0s 7ms/step - loss: 0.6191 - accuracy: 0.9744 - binary_accuracy: 0.9744\n",
      "2/2 [==============================] - 0s 6ms/step - loss: 0.0000e+00 - accuracy: 1.0000 - binary_accuracy: 1.0000\n"
     ]
    }
   ],
   "source": [
    "clf_data = {'score': [], 'sensitivity': [], 'specificity': []}\n",
    "c_mtx = np.array([[0,  0],[ 0,  0]])\n",
    "for X in range(1, 25):\n",
    "    c = []\n",
    "    target_data, negative_sets = cross_test_subject(data, X, 5, 100)\n",
    "    for set in negative_sets:\n",
    "        s, mtx= test_clf(target_data, set, X)\n",
    "        c_mtx += mtx\n",
    "        c.append(s)\n",
    "    clf_data['score'].append(c)\n",
    "\n"
   ]
  },
  {
   "cell_type": "code",
   "execution_count": 41,
   "metadata": {},
   "outputs": [
    {
     "name": "stdout",
     "output_type": "stream",
     "text": [
      "True Negatives:  4198\n",
      "True Positives:  468\n",
      "False Negatives: 22\n",
      "False Positives: 22\n",
      "\n",
      "False Positive Rate: 0.005213270142180095\n",
      "False Negative Rate: 0.044897959183673466\n",
      "Sensitivity        : 0.9551020408163265\n",
      "Specificity        : 0.9947867298578199\n",
      "Youden Index       : 0.9498887706741463\n",
      "Accuracy           : 0.9906581740976645\n",
      "Precision          : 0.9551020408163265\n",
      "Recall             : 0.9551020408163265\n",
      "F1-Score           : 0.9551020408163265\n"
     ]
    }
   ],
   "source": [
    "tn, fp, fn, tp = c_mtx.ravel()\n",
    "\n",
    "print(f\"True Negatives:  {tn}\")\n",
    "print(f\"True Positives:  {tp}\")\n",
    "print(f\"False Negatives: {fn}\")\n",
    "print(f\"False Positives: {fp}\")\n",
    "\n",
    "fpr = fp/(fp+tn)\n",
    "fnr = fn/(fn+tp)\n",
    "\n",
    "sensitivity = tp/(tp+fn)\n",
    "specificity = tn/(tn+fp)\n",
    "\n",
    "youden = sensitivity + specificity - 1\n",
    "\n",
    "accuracy = (tp+tn)/(tp+tn+fp+fn)\n",
    "\n",
    "precision = tp / (tp + fp)\n",
    "recall = tp / (tp + fn)\n",
    "\n",
    "F1 = 2 * (precision * recall) / (precision + recall)\n",
    "\n",
    "print()\n",
    "print(f\"False Positive Rate: {fpr}\")\n",
    "print(f\"False Negative Rate: {fnr}\")\n",
    "print(f\"Sensitivity        : {sensitivity}\")\n",
    "print(f\"Specificity        : {specificity}\")\n",
    "print(f\"Youden Index       : {youden}\")\n",
    "print(f\"Accuracy           : {accuracy}\")\n",
    "print(f\"Precision          : {precision}\")\n",
    "print(f\"Recall             : {recall}\")\n",
    "print(f\"F1-Score           : {F1}\")\n",
    "\n"
   ]
  },
  {
   "cell_type": "code",
   "execution_count": 6,
   "metadata": {},
   "outputs": [
    {
     "name": "stdout",
     "output_type": "stream",
     "text": [
      "Score: 0.9736939102564103\n",
      "Sensitivity: 0.8941666666666667\n",
      "Specificity: 0.9830720899470899\n"
     ]
    }
   ],
   "source": [
    "print(f\"Score: {np.mean(clf_data['score'])}\")\n",
    "print(f\"Sensitivity: {np.mean(clf_data['sensitivity'])}\")\n",
    "print(f\"Specificity: {np.mean(clf_data['specificity'])}\")"
   ]
  },
  {
   "cell_type": "code",
   "execution_count": 34,
   "metadata": {},
   "outputs": [],
   "source": [
    "y = []\n",
    "y_sen = []\n",
    "y_spec = []\n",
    "er = []\n",
    "er_sen = []\n",
    "er_spec = []\n",
    "for cl in clf_data['score']:\n",
    "    y.append(np.mean(cl))\n",
    "    er.append(np.std(cl))\n",
    "# for cl in clf_data['sensitivity']:\n",
    "#     y_sen.append(np.mean(cl))\n",
    "#     er_sen.append(np.std(cl))\n",
    "# for cl in clf_data['specificity']:\n",
    "#     y_spec.append(np.mean(cl))\n",
    "#     er_spec.append(np.std(cl))"
   ]
  },
  {
   "cell_type": "code",
   "execution_count": null,
   "metadata": {},
   "outputs": [],
   "source": []
  },
  {
   "cell_type": "code",
   "execution_count": 35,
   "metadata": {},
   "outputs": [
    {
     "data": {
      "text/plain": [
       "<matplotlib.legend.Legend at 0x17d2d6920>"
      ]
     },
     "execution_count": 35,
     "metadata": {},
     "output_type": "execute_result"
    },
    {
     "data": {
      "image/png": "[encoded data removed]",
      "text/plain": [
       "<Figure size 720x360 with 1 Axes>"
      ]
     },
     "metadata": {
      "needs_background": "light"
     },
     "output_type": "display_data"
    }
   ],
   "source": [
    "plt.figure(figsize=(10, 5))\n",
    "plt.title(\"Model Accuracies per Test Subject\")\n",
    "plt.plot([0,25], [1, 1], \"-\", linewidth=0.5, label=\"100% Accuracy\")\n",
    "plt.plot([0,25], [np.mean(clf_data['score']), np.mean(clf_data['score'])], \"--\", label=\"Mean Accuracy\")\n",
    "plt.errorbar((list(range(1,25))), y, yerr=er, fmt='x', c=\"black\", elinewidth=0.5, label=\"Mean and Standard Deviation\")\n",
    "plt.xlabel(\"Test Subject\")\n",
    "plt.ylabel(\"Model Accuracy\")\n",
    "plt.ylim(0, 1.1)\n",
    "plt.legend()\n",
    "#plt.savefig('accuracy_error_plot.png', dpi=300)\n",
    "\n"
   ]
  },
  {
   "cell_type": "code",
   "execution_count": null,
   "metadata": {},
   "outputs": [],
   "source": []
  },
  {
   "cell_type": "code",
   "execution_count": 36,
   "metadata": {},
   "outputs": [
    {
     "data": {
      "text/plain": [
       "(0.5, 1.1)"
      ]
     },
     "execution_count": 36,
     "metadata": {},
     "output_type": "execute_result"
    },
    {
     "data": {
      "image/png": "[encoded data removed]",
      "text/plain": [
       "<Figure size 720x360 with 1 Axes>"
      ]
     },
     "metadata": {
      "needs_background": "light"
     },
     "output_type": "display_data"
    }
   ],
   "source": [
    "plt.figure(figsize=(10, 5))\n",
    "\n",
    "plt.plot([0,25], [1, 1], \"-\", linewidth=0.5, label=\"100% Accuracy\")\n",
    "plt.title(\"Model Accuracies per Test Subject\")\n",
    "plt.xlabel(\"Test Subject\")\n",
    "plt.ylabel(\"Model Accuracy\")\n",
    "plt.boxplot(np.array(clf_data['score']).T, medianprops=dict(linewidth=1.5, color='red'))\n",
    "plt.ylim(0.5, 1.1)\n",
    "#plt.savefig('accuracy_box_plot.png', dpi=300)"
   ]
  },
  {
   "cell_type": "code",
   "execution_count": 10,
   "metadata": {},
   "outputs": [
    {
     "data": {
      "text/plain": [
       "<BarContainer object of 24 artists>"
      ]
     },
     "execution_count": 10,
     "metadata": {},
     "output_type": "execute_result"
    },
    {
     "data": {
      "image/png": "[encoded data removed]",
      "text/plain": [
       "<Figure size 432x288 with 1 Axes>"
      ]
     },
     "metadata": {
      "needs_background": "light"
     },
     "output_type": "display_data"
    }
   ],
   "source": [
    "ax = plt.subplot(111)\n",
    "\n",
    "x = np.array(list(range(1,25)))\n",
    "ax.bar(x-0.2, y, width=0.2, color='b', align='center')\n",
    "ax.bar(x, y_sen, width=0.2, color='r', align='center')\n",
    "ax.bar(x+.2, y_spec, width=0.2, color='y', align='center')"
   ]
  },
  {
   "cell_type": "code",
   "execution_count": 11,
   "metadata": {},
   "outputs": [
    {
     "data": {
      "text/plain": [
       "<matplotlib.collections.PathCollection at 0x15e4da2c0>"
      ]
     },
     "execution_count": 11,
     "metadata": {},
     "output_type": "execute_result"
    },
    {
     "data": {
      "image/png": "[encoded data removed]",
      "text/plain": [
       "<Figure size 432x288 with 1 Axes>"
      ]
     },
     "metadata": {
      "needs_background": "light"
     },
     "output_type": "display_data"
    }
   ],
   "source": [
    "plt.scatter(y, y_sen)"
   ]
  },
  {
   "cell_type": "code",
   "execution_count": 12,
   "metadata": {},
   "outputs": [
    {
     "data": {
      "text/plain": [
       "<matplotlib.collections.PathCollection at 0x15e541360>"
      ]
     },
     "execution_count": 12,
     "metadata": {},
     "output_type": "execute_result"
    },
    {
     "data": {
      "image/png": "[encoded data removed]",
      "text/plain": [
       "<Figure size 432x288 with 1 Axes>"
      ]
     },
     "metadata": {
      "needs_background": "light"
     },
     "output_type": "display_data"
    }
   ],
   "source": [
    "plt.scatter(y, y_spec)"
   ]
  },
  {
   "cell_type": "code",
   "execution_count": null,
   "metadata": {},
   "outputs": [],
   "source": []
  },
  {
   "cell_type": "code",
   "execution_count": null,
   "metadata": {},
   "outputs": [],
   "source": []
  },
  {
   "cell_type": "code",
   "execution_count": null,
   "metadata": {},
   "outputs": [],
   "source": []
  }
 ],
 "metadata": {
  "interpreter": {
   "hash": "16f5b74c624d09fc385f0be4058e336dcfbdaf265502152a4fcd00d5fcbbacfe"
  },
  "kernelspec": {
   "display_name": "Python 3.10.1 64-bit ('wrist': conda)",
   "language": "python",
   "name": "python3"
  },
  "language_info": {
   "codemirror_mode": {
    "name": "ipython",
    "version": 3
   },
   "file_extension": ".py",
   "mimetype": "text/x-python",
   "name": "python",
   "nbconvert_exporter": "python",
   "pygments_lexer": "ipython3",
   "version": "3.10.2"
  },
  "orig_nbformat": 4
 },
 "nbformat": 4,
 "nbformat_minor": 2
}
