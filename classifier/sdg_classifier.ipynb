{
 "cells": [
  {
   "cell_type": "code",
   "execution_count": 2,
   "metadata": {},
   "outputs": [],
   "source": [
    "from python_speech_features import mfcc\n",
    "from python_speech_features import logfbank\n",
    "from sklearn.model_selection import train_test_split\n",
    "import scipy.io.wavfile as wav\n",
    "import numpy as np\n",
    "import os\n"
   ]
  },
  {
   "cell_type": "code",
   "execution_count": 4,
   "metadata": {},
   "outputs": [],
   "source": [
    "data = []\n",
    "label = []\n",
    "label_name = []\n",
    "\n",
    "data_path = \"../data\"\n",
    "\n",
    "i = 0\n",
    "for dir in os.listdir(data_path):\n",
    "    if dir[0] != \".\":\n",
    "        files = os.listdir(data_path+\"/\"+dir)\n",
    "        for file in files:\n",
    "            if file[0] != \".\":\n",
    "                label_name.append(dir)\n",
    "                label.append(i)\n",
    "                f = data_path+\"/\"+dir+\"/\"+file\n",
    "                if os.path.isfile(f):\n",
    "                    (rate,sig) = wav.read(f)\n",
    "                    data.append(mfcc(sig, rate, nfft=2048)[:300,1:].flatten())\n",
    "        i += 1"
   ]
  },
  {
   "cell_type": "code",
   "execution_count": 11,
   "metadata": {},
   "outputs": [
    {
     "name": "stdout",
     "output_type": "stream",
     "text": [
      "3600\n",
      "3600\n",
      "3600\n",
      "3600\n",
      "3600\n",
      "3600\n",
      "3600\n",
      "3600\n",
      "3600\n",
      "3600\n",
      "3600\n",
      "3600\n",
      "3600\n",
      "3600\n",
      "3600\n",
      "3600\n",
      "3600\n",
      "3600\n",
      "3600\n",
      "3600\n",
      "3600\n",
      "3600\n"
     ]
    }
   ],
   "source": [
    "X_train, X_test, y_train, y_test = train_test_split(data, label, test_size=0.5)\n",
    "\n",
    "for d in data:\n",
    "    print(len(d))"
   ]
  },
  {
   "cell_type": "code",
   "execution_count": 6,
   "metadata": {},
   "outputs": [],
   "source": [
    "from sklearn import metrics\n",
    "from sklearn.linear_model import SGDClassifier"
   ]
  },
  {
   "cell_type": "code",
   "execution_count": 7,
   "metadata": {},
   "outputs": [
    {
     "data": {
      "text/plain": [
       "SGDClassifier(random_state=0)"
      ]
     },
     "execution_count": 7,
     "metadata": {},
     "output_type": "execute_result"
    }
   ],
   "source": [
    "sgd_clf = SGDClassifier(random_state=0, max_iter=1000, tol=1e-3)\n",
    "sgd_clf.fit(X_train, y_train)\n"
   ]
  },
  {
   "cell_type": "code",
   "execution_count": 8,
   "metadata": {},
   "outputs": [
    {
     "data": {
      "text/plain": [
       "array([  6.51289734,  -7.31649925, -11.79307566, ...,   7.44034213,\n",
       "         4.22969367,  -4.32737936])"
      ]
     },
     "execution_count": 8,
     "metadata": {},
     "output_type": "execute_result"
    }
   ],
   "source": [
    "data[1]"
   ]
  },
  {
   "cell_type": "code",
   "execution_count": null,
   "metadata": {},
   "outputs": [],
   "source": [
    "y_pred = sgd_clf.predict(X_test)"
   ]
  },
  {
   "cell_type": "code",
   "execution_count": null,
   "metadata": {},
   "outputs": [
    {
     "name": "stdout",
     "output_type": "stream",
     "text": [
      "pred: 0  -  actual: 1\n",
      "pred: 0  -  actual: 0\n",
      "pred: 0  -  actual: 0\n",
      "pred: 0  -  actual: 0\n",
      "pred: 0  -  actual: 0\n",
      "pred: 0  -  actual: 1\n",
      "pred: 0  -  actual: 0\n",
      "pred: 0  -  actual: 0\n",
      "pred: 0  -  actual: 1\n",
      "pred: 0  -  actual: 0\n",
      "pred: 0  -  actual: 1\n",
      "pred: 0  -  actual: 0\n",
      "pred: 0  -  actual: 0\n",
      "pred: 0  -  actual: 0\n",
      "pred: 0  -  actual: 1\n",
      "pred: 0  -  actual: 1\n"
     ]
    }
   ],
   "source": [
    "for p, a in zip(y_pred, y_test):\n",
    "    print(f\"pred: {p}  -  actual: {a}\")"
   ]
  },
  {
   "cell_type": "code",
   "execution_count": null,
   "metadata": {},
   "outputs": [
    {
     "data": {
      "text/plain": [
       "0.625"
      ]
     },
     "execution_count": 83,
     "metadata": {},
     "output_type": "execute_result"
    }
   ],
   "source": [
    "sgd_clf.score(X_test, y_test)"
   ]
  },
  {
   "cell_type": "code",
   "execution_count": null,
   "metadata": {},
   "outputs": [
    {
     "data": {
      "text/plain": [
       "array([[10,  0],\n",
       "       [ 6,  0]])"
      ]
     },
     "execution_count": 84,
     "metadata": {},
     "output_type": "execute_result"
    }
   ],
   "source": [
    "metrics.confusion_matrix(y_test, y_pred)"
   ]
  },
  {
   "cell_type": "code",
   "execution_count": null,
   "metadata": {},
   "outputs": [
    {
     "name": "stderr",
     "output_type": "stream",
     "text": [
      "/opt/homebrew/Caskroom/miniforge/base/envs/wrist/lib/python3.10/site-packages/sklearn/metrics/_ranking.py:999: UndefinedMetricWarning: No positive samples in y_true, true positive value should be meaningless\n",
      "  warnings.warn(\n"
     ]
    }
   ],
   "source": [
    "fpr, tpr, thresholds = metrics.roc_curve(y_test, y_pred, pos_label=2)"
   ]
  },
  {
   "cell_type": "code",
   "execution_count": null,
   "metadata": {},
   "outputs": [
    {
     "name": "stderr",
     "output_type": "stream",
     "text": [
      "/opt/homebrew/Caskroom/miniforge/base/envs/wrist/lib/python3.10/site-packages/sklearn/utils/deprecation.py:87: FutureWarning: Function plot_roc_curve is deprecated; Function :func:`plot_roc_curve` is deprecated in 1.0 and will be removed in 1.2. Use one of the class methods: :meth:`sklearn.metric.RocCurveDisplay.from_predictions` or :meth:`sklearn.metric.RocCurveDisplay.from_estimator`.\n",
      "  warnings.warn(msg, category=FutureWarning)\n"
     ]
    },
    {
     "data": {
      "text/plain": [
       "<sklearn.metrics._plot.roc_curve.RocCurveDisplay at 0x1251a3460>"
      ]
     },
     "execution_count": 86,
     "metadata": {},
     "output_type": "execute_result"
    },
    {
     "data": {
      "image/png": "[encoded data removed]",
      "text/plain": [
       "<Figure size 432x288 with 1 Axes>"
      ]
     },
     "metadata": {
      "needs_background": "light"
     },
     "output_type": "display_data"
    }
   ],
   "source": [
    "metrics.plot_roc_curve(sgd_clf, X_test, y_test)"
   ]
  },
  {
   "cell_type": "code",
   "execution_count": null,
   "metadata": {},
   "outputs": [],
   "source": [
    "\n"
   ]
  },
  {
   "cell_type": "code",
   "execution_count": null,
   "metadata": {},
   "outputs": [],
   "source": []
  }
 ],
 "metadata": {
  "interpreter": {
   "hash": "16f5b74c624d09fc385f0be4058e336dcfbdaf265502152a4fcd00d5fcbbacfe"
  },
  "kernelspec": {
   "display_name": "Python 3.10.1 64-bit ('wrist': conda)",
   "language": "python",
   "name": "python3"
  },
  "language_info": {
   "codemirror_mode": {
    "name": "ipython",
    "version": 3
   },
   "file_extension": ".py",
   "mimetype": "text/x-python",
   "name": "python",
   "nbconvert_exporter": "python",
   "pygments_lexer": "ipython3",
   "version": "3.10.2"
  },
  "orig_nbformat": 4
 },
 "nbformat": 4,
 "nbformat_minor": 2
}
