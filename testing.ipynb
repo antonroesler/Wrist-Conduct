{
 "cells": [
  {
   "cell_type": "code",
   "execution_count": 1,
   "metadata": {},
   "outputs": [],
   "source": [
    "from util.crossvalidation import cross_test_subject, extract_all_mfcc_features\n",
    "from sklearn.model_selection import train_test_split\n",
    "import numpy as np\n",
    "from sklearn import metrics\n",
    "from sklearn.linear_model import SGDClassifier\n",
    "from sklearn.metrics import auc\n",
    "from sklearn.metrics import RocCurveDisplay\n",
    "%matplotlib inline\n",
    "import matplotlib.pyplot as plt"
   ]
  },
  {
   "cell_type": "code",
   "execution_count": 2,
   "metadata": {},
   "outputs": [],
   "source": [
    "data = extract_all_mfcc_features()"
   ]
  },
  {
   "cell_type": "code",
   "execution_count": 3,
   "metadata": {},
   "outputs": [],
   "source": [
    "def test_clf(target_data, other_data, p):\n",
    "    label = [1]*len(target_data) + [0]*len(other_data)#\n",
    "    data = target_data + other_data\n",
    "    data = np.array(data)\n",
    "    label = np.array(label)\n",
    "    X_train, X_test, y_train, y_test = train_test_split(data, label, test_size=0.35, stratify=label)\n",
    "    sgd_clf = SGDClassifier(random_state=42, max_iter=1000, tol=1e-3)\n",
    "    sgd_clf.fit(X_train, y_train)\n",
    "    y_pred = sgd_clf.predict(X_test)\n",
    "    s = sgd_clf.score(X_test, y_test)\n",
    "    \n",
    "    \n",
    "    mtx = metrics.confusion_matrix(y_test, y_pred)\n",
    "    if len(mtx) == 1:\n",
    "        mtx = np.array([y_test.count(0),0],[0, y_test.count(1)])\n",
    "    tn, fp, fn, tp = mtx.ravel()\n",
    "\n",
    "    sensitivity = tp/(tp+fn)\n",
    "    specificity = tn/(tn+fp)\n",
    "    return s, mtx, sensitivity, specificity\n",
    "\n",
    "        \n",
    "        \n",
    "        "
   ]
  },
  {
   "cell_type": "code",
   "execution_count": 4,
   "metadata": {},
   "outputs": [],
   "source": [
    "clf_data = {'score': [], 'sensitivity': [], 'specificity': []}\n",
    "c_mtx = np.array([[0,  0],[ 0,  0]])\n",
    "for X in range(1, 25):\n",
    "    c = []\n",
    "    sen = []\n",
    "    spec = []\n",
    "    target_data, negative_sets = cross_test_subject(data, X, 10, 100)\n",
    "    for set in negative_sets:\n",
    "        s, mtx, sensitivity, specificity = test_clf(target_data, set, X)\n",
    "        c_mtx += mtx\n",
    "        c.append(s)\n",
    "        sen.append(sensitivity)\n",
    "        spec.append(specificity)\n",
    "    clf_data['score'].append(c)\n",
    "    clf_data['sensitivity'].append(sen)\n",
    "    clf_data['specificity'].append(spec)\n"
   ]
  },
  {
   "cell_type": "code",
   "execution_count": 14,
   "metadata": {},
   "outputs": [
    {
     "name": "stdout",
     "output_type": "stream",
     "text": [
      "True Negatives:  8337\n",
      "True Positives:  889\n",
      "False Negatives: 91\n",
      "False Positives: 103\n",
      "\n",
      "False Positive Rate: 0.012203791469194312\n",
      "False Negative Rate: 0.09285714285714286\n",
      "Sensitivity        : 0.9071428571428571\n",
      "Specificity        : 0.9877962085308057\n",
      "Youden Index       : 0.8949390656736629\n",
      "Accuracy           : 0.9794055201698514\n",
      "Precision          : 0.8961693548387096\n",
      "Recall             : 0.9071428571428571\n",
      "F1-Score           : 0.9016227180527383\n"
     ]
    }
   ],
   "source": [
    "tn, fp, fn, tp = c_mtx.ravel()\n",
    "\n",
    "print(f\"True Negatives:  {tn}\")\n",
    "print(f\"True Positives:  {tp}\")\n",
    "print(f\"False Negatives: {fn}\")\n",
    "print(f\"False Positives: {fp}\")\n",
    "\n",
    "fpr = fp/(fp+tn)\n",
    "fnr = fn/(fn+tp)\n",
    "\n",
    "sensitivity = tp/(tp+fn)\n",
    "specificity = tn/(tn+fp)\n",
    "\n",
    "youden = sensitivity + specificity - 1\n",
    "\n",
    "accuracy = (tp+tn)/(tp+tn+fp+fn)\n",
    "\n",
    "precision = tp / (tp + fp)\n",
    "recall = tp / (tp + fn)\n",
    "\n",
    "F1 = 2 * (precision * recall) / (precision + recall)\n",
    "\n",
    "print()\n",
    "print(f\"False Positive Rate: {fpr}\")\n",
    "print(f\"False Negative Rate: {fnr}\")\n",
    "print(f\"Sensitivity        : {sensitivity}\")\n",
    "print(f\"Specificity        : {specificity}\")\n",
    "print(f\"Youden Index       : {youden}\")\n",
    "print(f\"Accuracy           : {accuracy}\")\n",
    "print(f\"Precision          : {precision}\")\n",
    "print(f\"Recall             : {recall}\")\n",
    "print(f\"F1-Score           : {F1}\")\n",
    "\n"
   ]
  },
  {
   "cell_type": "code",
   "execution_count": 6,
   "metadata": {},
   "outputs": [
    {
     "name": "stdout",
     "output_type": "stream",
     "text": [
      "Score: 0.9794257478632479\n",
      "Sensitivity: 0.9085416666666667\n",
      "Specificity: 0.9877843915343916\n"
     ]
    }
   ],
   "source": [
    "print(f\"Score: {np.mean(clf_data['score'])}\")\n",
    "print(f\"Sensitivity: {np.mean(clf_data['sensitivity'])}\")\n",
    "print(f\"Specificity: {np.mean(clf_data['specificity'])}\")"
   ]
  },
  {
   "cell_type": "code",
   "execution_count": 7,
   "metadata": {},
   "outputs": [],
   "source": [
    "y = []\n",
    "y_sen = []\n",
    "y_spec = []\n",
    "er = []\n",
    "er_sen = []\n",
    "er_spec = []\n",
    "for cl in clf_data['score']:\n",
    "    y.append(np.mean(cl))\n",
    "    er.append(np.std(cl))\n",
    "for cl in clf_data['sensitivity']:\n",
    "    y_sen.append(np.mean(cl))\n",
    "    er_sen.append(np.std(cl))\n",
    "for cl in clf_data['specificity']:\n",
    "    y_spec.append(np.mean(cl))\n",
    "    er_spec.append(np.std(cl))"
   ]
  },
  {
   "cell_type": "code",
   "execution_count": null,
   "metadata": {},
   "outputs": [],
   "source": []
  },
  {
   "cell_type": "code",
   "execution_count": 8,
   "metadata": {},
   "outputs": [
    {
     "data": {
      "image/png": "[encoded data removed]",
      "text/plain": [
       "<Figure size 720x360 with 1 Axes>"
      ]
     },
     "metadata": {
      "needs_background": "light"
     },
     "output_type": "display_data"
    }
   ],
   "source": [
    "plt.figure(figsize=(10, 5))\n",
    "plt.title(\"Model Accuracies per Test Subject\")\n",
    "plt.plot([0,25], [1, 1], \"-\", linewidth=0.5, label=\"100% Accuracy\")\n",
    "plt.plot([0,25], [np.mean(clf_data['score']), np.mean(clf_data['score'])], \"--\", label=\"Mean Accuracy\")\n",
    "plt.errorbar((list(range(1,25))), y, yerr=er, fmt='x', c=\"black\", elinewidth=0.5, label=\"Mean and Standard Deviation\")\n",
    "plt.xlabel(\"Test Subject\")\n",
    "plt.ylabel(\"Model Accuracy\")\n",
    "plt.ylim(0, 1.1)\n",
    "plt.legend()\n",
    "plt.savefig('accuracy_error_plot.png', dpi=300)\n",
    "\n"
   ]
  },
  {
   "cell_type": "code",
   "execution_count": null,
   "metadata": {},
   "outputs": [],
   "source": []
  },
  {
   "cell_type": "code",
   "execution_count": 9,
   "metadata": {},
   "outputs": [
    {
     "data": {
      "image/png": "[encoded data removed]",
      "text/plain": [
       "<Figure size 720x360 with 1 Axes>"
      ]
     },
     "metadata": {
      "needs_background": "light"
     },
     "output_type": "display_data"
    }
   ],
   "source": [
    "plt.figure(figsize=(10, 5))\n",
    "\n",
    "plt.plot([0,25], [1, 1], \"-\", linewidth=0.5, label=\"100% Accuracy\")\n",
    "plt.title(\"Model Accuracies per Test Subject\")\n",
    "plt.xlabel(\"Test Subject\")\n",
    "plt.ylabel(\"Model Accuracy\")\n",
    "plt.boxplot(np.array(clf_data['score']).T, medianprops=dict(linewidth=1.5, color='red'))\n",
    "plt.ylim(0.5, 1.1)\n",
    "plt.savefig('accuracy_box_plot.png', dpi=300)"
   ]
  },
  {
   "cell_type": "code",
   "execution_count": 10,
   "metadata": {},
   "outputs": [
    {
     "data": {
      "text/plain": [
       "<BarContainer object of 24 artists>"
      ]
     },
     "execution_count": 10,
     "metadata": {},
     "output_type": "execute_result"
    },
    {
     "data": {
      "image/png": "[encoded data removed]",
      "text/plain": [
       "<Figure size 432x288 with 1 Axes>"
      ]
     },
     "metadata": {
      "needs_background": "light"
     },
     "output_type": "display_data"
    }
   ],
   "source": [
    "ax = plt.subplot(111)\n",
    "\n",
    "x = np.array(list(range(1,25)))\n",
    "ax.bar(x-0.2, y, width=0.2, color='b', align='center')\n",
    "ax.bar(x, y_sen, width=0.2, color='r', align='center')\n",
    "ax.bar(x+.2, y_spec, width=0.2, color='y', align='center')"
   ]
  },
  {
   "cell_type": "code",
   "execution_count": 11,
   "metadata": {},
   "outputs": [
    {
     "data": {
      "text/plain": [
       "<matplotlib.collections.PathCollection at 0x15cf658a0>"
      ]
     },
     "execution_count": 11,
     "metadata": {},
     "output_type": "execute_result"
    },
    {
     "data": {
      "image/png": "[encoded data removed]",
      "text/plain": [
       "<Figure size 432x288 with 1 Axes>"
      ]
     },
     "metadata": {
      "needs_background": "light"
     },
     "output_type": "display_data"
    }
   ],
   "source": [
    "plt.scatter(y, y_sen)"
   ]
  },
  {
   "cell_type": "code",
   "execution_count": 12,
   "metadata": {},
   "outputs": [
    {
     "data": {
      "text/plain": [
       "<matplotlib.collections.PathCollection at 0x15f94cc40>"
      ]
     },
     "execution_count": 12,
     "metadata": {},
     "output_type": "execute_result"
    },
    {
     "data": {
      "image/png": "[encoded data removed]",
      "text/plain": [
       "<Figure size 432x288 with 1 Axes>"
      ]
     },
     "metadata": {
      "needs_background": "light"
     },
     "output_type": "display_data"
    }
   ],
   "source": [
    "plt.scatter(y, y_spec)"
   ]
  },
  {
   "cell_type": "code",
   "execution_count": null,
   "metadata": {},
   "outputs": [],
   "source": []
  },
  {
   "cell_type": "code",
   "execution_count": null,
   "metadata": {},
   "outputs": [],
   "source": []
  },
  {
   "cell_type": "code",
   "execution_count": null,
   "metadata": {},
   "outputs": [],
   "source": []
  }
 ],
 "metadata": {
  "interpreter": {
   "hash": "16f5b74c624d09fc385f0be4058e336dcfbdaf265502152a4fcd00d5fcbbacfe"
  },
  "kernelspec": {
   "display_name": "Python 3.10.1 64-bit ('wrist': conda)",
   "language": "python",
   "name": "python3"
  },
  "language_info": {
   "codemirror_mode": {
    "name": "ipython",
    "version": 3
   },
   "file_extension": ".py",
   "mimetype": "text/x-python",
   "name": "python",
   "nbconvert_exporter": "python",
   "pygments_lexer": "ipython3",
   "version": "3.10.2"
  },
  "orig_nbformat": 4
 },
 "nbformat": 4,
 "nbformat_minor": 2
}
