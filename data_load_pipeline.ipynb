{
 "cells": [
  {
   "cell_type": "code",
   "execution_count": 1,
   "metadata": {},
   "outputs": [],
   "source": [
    "from python_speech_features import mfcc\n",
    "from python_speech_features import logfbank\n",
    "import scipy.io.wavfile as wav\n",
    "import os\n"
   ]
  },
  {
   "cell_type": "code",
   "execution_count": 9,
   "metadata": {},
   "outputs": [],
   "source": [
    "data = []\n",
    "label = []\n",
    "\n",
    "data_path = \"./data\"\n",
    "\n",
    "for dir in os.listdir(data_path):\n",
    "    if dir[0] != \".\":\n",
    "        files = os.listdir(data_path+\"/\"+dir)\n",
    "        for file in files:\n",
    "            label.append(dir)\n",
    "            f = data_path+\"/\"+dir+\"/\"+file\n",
    "            if os.path.isfile(f):\n",
    "                (rate,sig) = wav.read(f)\n",
    "                data.append(mfcc(sig, rate, nfft=2048)[:300,1:])"
   ]
  },
  {
   "cell_type": "code",
   "execution_count": null,
   "metadata": {},
   "outputs": [],
   "source": []
  },
  {
   "cell_type": "code",
   "execution_count": null,
   "metadata": {},
   "outputs": [],
   "source": []
  },
  {
   "cell_type": "code",
   "execution_count": null,
   "metadata": {},
   "outputs": [],
   "source": []
  }
 ],
 "metadata": {
  "interpreter": {
   "hash": "16f5b74c624d09fc385f0be4058e336dcfbdaf265502152a4fcd00d5fcbbacfe"
  },
  "kernelspec": {
   "display_name": "Python 3.10.1 64-bit ('wrist': conda)",
   "language": "python",
   "name": "python3"
  },
  "language_info": {
   "codemirror_mode": {
    "name": "ipython",
    "version": 3
   },
   "file_extension": ".py",
   "mimetype": "text/x-python",
   "name": "python",
   "nbconvert_exporter": "python",
   "pygments_lexer": "ipython3",
   "version": "3.10.1"
  },
  "orig_nbformat": 4
 },
 "nbformat": 4,
 "nbformat_minor": 2
}
